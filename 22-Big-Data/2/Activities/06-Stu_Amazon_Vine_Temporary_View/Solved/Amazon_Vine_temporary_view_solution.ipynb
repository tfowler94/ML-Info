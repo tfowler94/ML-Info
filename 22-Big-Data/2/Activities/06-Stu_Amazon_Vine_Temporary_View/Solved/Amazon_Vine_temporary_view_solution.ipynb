{
 "cells": [
  {
   "cell_type": "code",
   "execution_count": 1,
   "metadata": {
    "colab": {
     "base_uri": "https://localhost:8080/"
    },
    "id": "quc4esHQ3Cqs",
    "outputId": "41725f3c-fa3d-425d-8e90-c7a548e245c7"
   },
   "outputs": [],
   "source": [
    "# Import findspark and initialize. \n",
    "import findspark\n",
    "findspark.init()"
   ]
  },
  {
   "cell_type": "code",
   "execution_count": 2,
   "metadata": {
    "id": "5AOTB6WJ3OP3"
   },
   "outputs": [
    {
     "name": "stderr",
     "output_type": "stream",
     "text": [
      "Setting default log level to \"WARN\".\n",
      "To adjust logging level use sc.setLogLevel(newLevel). For SparkR, use setLogLevel(newLevel).\n"
     ]
    },
    {
     "name": "stdout",
     "output_type": "stream",
     "text": [
      "23/02/08 11:22:48 WARN NativeCodeLoader: Unable to load native-hadoop library for your platform... using builtin-java classes where applicable\n"
     ]
    }
   ],
   "source": [
    "# Start Spark session\n",
    "from pyspark.sql import SparkSession\n",
    "spark = SparkSession.builder.appName(\"VineTempView\").getOrCreate()"
   ]
  },
  {
   "cell_type": "code",
   "execution_count": 3,
   "metadata": {
    "colab": {
     "base_uri": "https://localhost:8080/"
    },
    "id": "83jgwDv73h3R",
    "outputId": "cacb0d7e-20f1-4972-e59f-81b265e95afc"
   },
   "outputs": [
    {
     "name": "stderr",
     "output_type": "stream",
     "text": [
      "                                                                                \r"
     ]
    },
    {
     "name": "stdout",
     "output_type": "stream",
     "text": [
      "+-----------+-----------+--------------+----------+--------------+--------------------+----------------+-----------+-------------+-----------+----+-----------------+--------------------+--------------------+-------------------+\n",
      "|marketplace|customer_id|     review_id|product_id|product_parent|       product_title|product_category|star_rating|helpful_votes|total_votes|vine|verified_purchase|     review_headline|         review_body|        review_date|\n",
      "+-----------+-----------+--------------+----------+--------------+--------------------+----------------+-----------+-------------+-----------+----+-----------------+--------------------+--------------------+-------------------+\n",
      "|         US|   10140119|R3LI5TRP3YIDQL|B00TXH4OLC|     384427924|Whatever's for Us...|           Music|          5|            0|          0|   N|                Y|          Five Stars|Love this CD alon...|2015-08-31 00:00:00|\n",
      "|         US|   27664622|R3LGC3EKEG84PX|B00B6QXN6U|     831769051|Same Trailer Diff...|           Music|          5|            0|          0|   N|                Y|A new fave in our...|This is the album...|2015-08-31 00:00:00|\n",
      "|         US|   45946560| R9PYL3OYH55QY|B001GCZXW6|      14067376| Soaring (Jazz Club)|           Music|          5|            0|          1|   N|                Y|          Five Stars|  Excellent / thanks|2015-08-31 00:00:00|\n",
      "|         US|   15146326|R3PWBAWUS4NT0Q|B000003EK6|     566295619|     CARIBBEAN PARTY|           Music|          3|            0|          0|   N|                Y|         Three Stars|Nice variety of c...|2015-08-31 00:00:00|\n",
      "|         US|   16794688|R15LYP3O51UU9E|B00N1F0BKK|     210426072|         Pain Killer|           Music|          5|            0|          0|   N|                Y|          Five Stars|Purchased as a gi...|2015-08-31 00:00:00|\n",
      "|         US|   32203364|R1AD7L0CC3DSRI|B00V7KAO7Q|     360249504|A Thoughtiverse U...|           Music|          5|            0|          0|   N|                Y|Definitely worth ...|Really enjoyed th...|2015-08-31 00:00:00|\n",
      "|         US|    1194276|R32FE8Y45QV434|B000094Q4P|      20972283|Comfort of Her Wings|           Music|          5|            0|          0|   N|                Y|          Five Stars|            Great CD|2015-08-31 00:00:00|\n",
      "|         US|   45813052|R3NM4MZ4XWL43Q|B00JMK0P1I|     378049560|Sleep Soundly CD ...|           Music|          5|            1|          2|   N|                Y|          Five Stars|       Excellent CD!|2015-08-31 00:00:00|\n",
      "|         US|   12795687|R3H4FXX6Q7I37D|B008OW1S3O|     141620702|     An Awesome Wave|           Music|          4|            0|          0|   N|                Y|          Four Stars|                nice|2015-08-31 00:00:00|\n",
      "|         US|   36673840|R30L5PET7LFFDC|B00VI2L3L4|     920557135|          Blurryface|           Music|          5|            1|          1|   N|                Y|        Outstanding!|Outstanding music...|2015-08-31 00:00:00|\n",
      "|         US|   49453576|  REFRE1LEKLAF|B0000041EV|     683128964|Mozart For Mother...|           Music|          4|            1|          1|   N|                Y|          Four Stars|      quite relaxing|2015-08-31 00:00:00|\n",
      "|         US|    3285047|R3JTJ5EQN74E9H|B00005YW4H|     268461622|   Come Away with Me|           Music|          5|            0|          0|   N|                Y|          Five Stars|I love this CD.  ...|2015-08-31 00:00:00|\n",
      "|         US|   24471201|R1W2F091LCOAW5|B00Q9KEZV0|     444090572| Tomorrow Is My Turn|           Music|          5|            0|          0|   N|                Y|FIve Stars and Th...|Rhiannon Giddens ...|2015-08-31 00:00:00|\n",
      "|         US|   28049396| RYUMFQRRB1FNM|B00GFXRKHW|     482597726|       The Outsiders|           Music|          3|            0|          0|   N|                Y|         Three Stars|Wrecking Ball is ...|2015-08-31 00:00:00|\n",
      "|         US|   41137196| RHCS6VVXWV3Q3|B004L3AQ10|     609457123|  The Lincoln Lawyer|           Music|          5|            0|          0|   N|                Y|          Five Stars|I was pleased wit...|2015-08-31 00:00:00|\n",
      "|         US|   43305401|R35UL1YZ2142SL|B0000025PM|     125399885|Bach: Goldberg Va...|           Music|          5|            0|          0|   N|                Y|   The Creative Flow|The music that in...|2015-08-31 00:00:00|\n",
      "|         US|   50808489|  RU1O6QD1LEBB|B00701QUN8|     144457491|Quiet Riot - Grea...|           Music|          5|            0|          0|   N|                Y|          Five Stars|   Excellent CD&#62;|2015-08-31 00:00:00|\n",
      "|         US|   15536614|R36RXVL3XIZFH7|B003UJC2QI|     207971309|Love Or Money/Lov...|           Music|          5|            0|          0|   N|                N|    Great Pop Single|Love Or Money by ...|2015-08-31 00:00:00|\n",
      "|         US|   32536909|R16O7SHYHLEYA1|B00LGA16J2|     760666287|Jonas Kaufmann - ...|           Music|          5|            0|          0|   N|                Y|          Five Stars|      Just splendid!|2015-08-31 00:00:00|\n",
      "|         US|   51160312|R1Y5GX65Z2V9BG|B00ZGVMLLE|      37408836|        Clockworking|           Music|          5|            0|          0|   N|                N|Glorious Glorious...|One of my favorit...|2015-08-31 00:00:00|\n",
      "+-----------+-----------+--------------+----------+--------------+--------------------+----------------+-----------+-------------+-----------+----+-----------------+--------------------+--------------------+-------------------+\n",
      "only showing top 20 rows\n",
      "\n"
     ]
    }
   ],
   "source": [
    "# Read in data. \n",
    "from pyspark import SparkFiles\n",
    "url = \"https://s3.amazonaws.com/amazon-reviews-pds/tsv/amazon_reviews_us_Music_v1_00.tsv.gz\"\n",
    "spark.sparkContext.addFile(url)\n",
    "music_df = spark.read.csv(SparkFiles.get(\"amazon_reviews_us_Music_v1_00.tsv.gz\"), sep=\"\\t\", header=True, inferSchema=True)\n",
    "music_df.show()"
   ]
  },
  {
   "cell_type": "code",
   "execution_count": 4,
   "metadata": {
    "id": "_j5nmOX23rRo"
   },
   "outputs": [],
   "source": [
    "# Create a temporary view.   \n",
    "music_df.createOrReplaceTempView('music')"
   ]
  },
  {
   "cell_type": "code",
   "execution_count": 5,
   "metadata": {
    "colab": {
     "base_uri": "https://localhost:8080/"
    },
    "id": "G8F9xBpp7Hzm",
    "outputId": "f113d46a-26b3-4ebe-d97f-cb7f337cab1e"
   },
   "outputs": [
    {
     "name": "stdout",
     "output_type": "stream",
     "text": [
      "+--------------------+\n",
      "|       product_title|\n",
      "+--------------------+\n",
      "|Whatever's for Us...|\n",
      "|Same Trailer Diff...|\n",
      "| Soaring (Jazz Club)|\n",
      "|         Pain Killer|\n",
      "|A Thoughtiverse U...|\n",
      "|Comfort of Her Wings|\n",
      "|Sleep Soundly CD ...|\n",
      "|          Blurryface|\n",
      "|   Come Away with Me|\n",
      "| Tomorrow Is My Turn|\n",
      "+--------------------+\n",
      "\n"
     ]
    }
   ],
   "source": [
    "# Using sql return the first 10 product titles that have a 5 star rating. \n",
    "spark.sql(\"SELECT product_title FROM music WHERE star_rating==5 LIMIT 10\").show()"
   ]
  },
  {
   "cell_type": "code",
   "execution_count": 6,
   "metadata": {
    "colab": {
     "base_uri": "https://localhost:8080/"
    },
    "id": "yG_0Nm4BA_QB",
    "outputId": "2d306d6b-5396-4ccd-e6b0-9b1652ba0ea0"
   },
   "outputs": [
    {
     "name": "stdout",
     "output_type": "stream",
     "text": [
      "+--------------------+--------------------+\n",
      "|       product_title|         review_body|\n",
      "+--------------------+--------------------+\n",
      "|Seems Like Old Times|Was looking for s...|\n",
      "|               Venom|i have 5 other im...|\n",
      "|Symphony 9 La Gra...|36 minutes for th...|\n",
      "|              Kismet|         NOT SO GOOD|\n",
      "|#1 Cool Dance Bea...|I didn't understa...|\n",
      "|Karaoke - Johnny ...|It came with NO l...|\n",
      "|           It's Time|Not as good as I ...|\n",
      "| Catchy Math Jingles|Will never buy th...|\n",
      "|Bach: Six Cello S...|I've heard this m...|\n",
      "|Greatest Hits: De...|Cd was broken an ...|\n",
      "|Nursery Rhymes Fl...|Flimsy pieces, wo...|\n",
      "|Enigma 3: Le Roi ...|The item arrived ...|\n",
      "| Illinois Blues 1973|Sound is very mud...|\n",
      "|Music From The Se...|Way overpriced.  ...|\n",
      "|     Burning Bridges|It's time to wrap...|\n",
      "|New Wave Xmas: Ju...|I have all the Ju...|\n",
      "|Still [2 CD][Delu...|Didn't like at al...|\n",
      "|            Electric|Sucks! This is on...|\n",
      "|Una Leyenda Flamenca|Very Good . I wil...|\n",
      "|              SUCKER|When I bought thi...|\n",
      "+--------------------+--------------------+\n",
      "only showing top 20 rows\n",
      "\n"
     ]
    }
   ],
   "source": [
    "# Return the product title and review comments (review_body) for products that had a 1 star rating.\n",
    "spark.sql(\"SELECT product_title, review_body FROM music WHERE star_rating==1\").show()"
   ]
  },
  {
   "cell_type": "code",
   "execution_count": 7,
   "metadata": {
    "colab": {
     "base_uri": "https://localhost:8080/"
    },
    "id": "bIO1asLe79hR",
    "outputId": "779719d4-61f1-4338-d759-bedff4d3086e"
   },
   "outputs": [
    {
     "name": "stderr",
     "output_type": "stream",
     "text": [
      "\r",
      "[Stage 5:>                                                          (0 + 1) / 1]\r"
     ]
    },
    {
     "name": "stdout",
     "output_type": "stream",
     "text": [
      "+-----------+------------------+\n",
      "|customer_id|count(customer_id)|\n",
      "+-----------+------------------+\n",
      "|   50736950|              7168|\n",
      "|   38214553|              5412|\n",
      "|   51184997|              5369|\n",
      "|   18116317|              4222|\n",
      "|   23267387|              4023|\n",
      "|   50345651|              3793|\n",
      "|   14539589|              2896|\n",
      "|   15725862|              2842|\n",
      "|   19380211|              2592|\n",
      "|   20018062|              2568|\n",
      "|   51381678|              2457|\n",
      "|   37455882|              2370|\n",
      "|   47924228|              2352|\n",
      "|   50441674|              2282|\n",
      "|   29791894|              2246|\n",
      "|   22073263|              2213|\n",
      "|   34639163|              2179|\n",
      "|   25527589|              2128|\n",
      "|   47423754|              2120|\n",
      "|   50503261|              2119|\n",
      "+-----------+------------------+\n",
      "only showing top 20 rows\n",
      "\n"
     ]
    },
    {
     "name": "stderr",
     "output_type": "stream",
     "text": [
      "\r",
      "                                                                                \r"
     ]
    }
   ],
   "source": [
    "# Return the customer_id and the number of time the customer made a review. \n",
    "# Group the results by the customer_id and order the results by number of times the customer made a review in descending order.\n",
    "\n",
    "query = \"\"\"(SELECT customer_id, count(customer_id)\n",
    "FROM music\n",
    "GROUP BY customer_id\n",
    "ORDER BY count(customer_id) DESC)\"\"\"\n",
    "spark.sql(query).show()\n"
   ]
  },
  {
   "cell_type": "code",
   "execution_count": null,
   "metadata": {
    "id": "khAGegwu-a6a"
   },
   "outputs": [],
   "source": []
  }
 ],
 "metadata": {
  "colab": {
   "collapsed_sections": [],
   "name": "Amazon_Vine_Temporary_View_solution.ipynb",
   "provenance": []
  },
  "kernelspec": {
   "display_name": "Python 3 (ipykernel)",
   "language": "python",
   "name": "python3"
  },
  "language_info": {
   "codemirror_mode": {
    "name": "ipython",
    "version": 3
   },
   "file_extension": ".py",
   "mimetype": "text/x-python",
   "name": "python",
   "nbconvert_exporter": "python",
   "pygments_lexer": "ipython3",
   "version": "3.10.4"
  }
 },
 "nbformat": 4,
 "nbformat_minor": 1
}
